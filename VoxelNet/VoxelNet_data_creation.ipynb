{
  "nbformat": 4,
  "nbformat_minor": 0,
  "metadata": {
    "colab": {
      "name": "VoxelNet_datacreation",
      "provenance": [],
      "collapsed_sections": [
        "ETzs50GvxL7a"
      ],
      "toc_visible": true,
      "mount_file_id": "1I6LYyE3zLxQm2MlMYwZFE-VmcoU9mIyV",
      "authorship_tag": "ABX9TyN2Gkw+4B5nd4mzApTVw9n0",
      "include_colab_link": true
    },
    "kernelspec": {
      "name": "python3",
      "display_name": "Python 3"
    }
  },
  "cells": [
    {
      "cell_type": "markdown",
      "metadata": {
        "id": "view-in-github",
        "colab_type": "text"
      },
      "source": [
        "<a href=\"https://colab.research.google.com/github/gkadusumilli/Voxelnet/blob/master/VoxelNet_data_creation.ipynb\" target=\"_parent\"><img src=\"https://colab.research.google.com/assets/colab-badge.svg\" alt=\"Open In Colab\"/></a>"
      ]
    },
    {
      "cell_type": "markdown",
      "metadata": {
        "id": "O3EwMGGlOaYV",
        "colab_type": "text"
      },
      "source": [
        "##Clone the voxelnet repo"
      ]
    },
    {
      "cell_type": "code",
      "metadata": {
        "id": "Yu8NcYgRMGVL",
        "colab_type": "code",
        "colab": {
          "base_uri": "https://localhost:8080/",
          "height": 84
        },
        "outputId": "bed007c1-68c4-4100-db7a-d11c55b28609"
      },
      "source": [
        "!git clone https://github.com/gkadusumilli/Voxelnet.git"
      ],
      "execution_count": null,
      "outputs": [
        {
          "output_type": "stream",
          "text": [
            "Cloning into 'Voxelnet'...\n",
            "remote: Enumerating objects: 80, done.\u001b[K\n",
            "remote: Total 80 (delta 0), reused 0 (delta 0), pack-reused 80\u001b[K\n",
            "Unpacking objects: 100% (80/80), done.\n"
          ],
          "name": "stdout"
        }
      ]
    },
    {
      "cell_type": "code",
      "metadata": {
        "id": "WUJvPpTKS1r0",
        "colab_type": "code",
        "colab": {
          "base_uri": "https://localhost:8080/",
          "height": 34
        },
        "outputId": "45101dba-e693-4dbf-d23e-9e1c622645fd"
      },
      "source": [
        "%cd /content/Voxelnet"
      ],
      "execution_count": null,
      "outputs": [
        {
          "output_type": "stream",
          "text": [
            "/content/Voxelnet\n"
          ],
          "name": "stdout"
        }
      ]
    },
    {
      "cell_type": "markdown",
      "metadata": {
        "id": "CHHbxhbnOh3J",
        "colab_type": "text"
      },
      "source": [
        "##Build the dependencies"
      ]
    },
    {
      "cell_type": "code",
      "metadata": {
        "id": "ttDLFFBCSE7m",
        "colab_type": "code",
        "colab": {
          "base_uri": "https://localhost:8080/",
          "height": 339
        },
        "outputId": "b1070acb-9d85-4f9a-b724-2811b3a2cb55"
      },
      "source": [
        "!python setup.py build_ext --inplace"
      ],
      "execution_count": null,
      "outputs": [
        {
          "output_type": "stream",
          "text": [
            "Compiling ./utils/box_overlaps.pyx because it changed.\n",
            "[1/1] Cythonizing ./utils/box_overlaps.pyx\n",
            "/usr/local/lib/python3.6/dist-packages/Cython/Compiler/Main.py:369: FutureWarning: Cython directive 'language_level' not set, using 2 for now (Py2). This will change in a later release! File: /content/Voxelnet/utils/box_overlaps.pyx\n",
            "  tree = Parsing.p_module(s, pxd, full_module_name)\n",
            "running build_ext\n",
            "building 'utils.box_overlaps' extension\n",
            "creating build\n",
            "creating build/temp.linux-x86_64-3.6\n",
            "creating build/temp.linux-x86_64-3.6/utils\n",
            "x86_64-linux-gnu-gcc -pthread -DNDEBUG -g -fwrapv -O2 -Wall -g -fstack-protector-strong -Wformat -Werror=format-security -Wdate-time -D_FORTIFY_SOURCE=2 -fPIC -I/usr/local/lib/python3.6/dist-packages/numpy/core/include -I/usr/include/python3.6m -c ./utils/box_overlaps.c -o build/temp.linux-x86_64-3.6/./utils/box_overlaps.o\n",
            "In file included from \u001b[01m\u001b[K/usr/local/lib/python3.6/dist-packages/numpy/core/include/numpy/ndarraytypes.h:1832:0\u001b[m\u001b[K,\n",
            "                 from \u001b[01m\u001b[K/usr/local/lib/python3.6/dist-packages/numpy/core/include/numpy/ndarrayobject.h:12\u001b[m\u001b[K,\n",
            "                 from \u001b[01m\u001b[K/usr/local/lib/python3.6/dist-packages/numpy/core/include/numpy/arrayobject.h:4\u001b[m\u001b[K,\n",
            "                 from \u001b[01m\u001b[K./utils/box_overlaps.c:623\u001b[m\u001b[K:\n",
            "\u001b[01m\u001b[K/usr/local/lib/python3.6/dist-packages/numpy/core/include/numpy/npy_1_7_deprecated_api.h:17:2:\u001b[m\u001b[K \u001b[01;35m\u001b[Kwarning: \u001b[m\u001b[K#warning \"Using deprecated NumPy API, disable it with \" \"#define NPY_NO_DEPRECATED_API NPY_1_7_API_VERSION\" [\u001b[01;35m\u001b[K-Wcpp\u001b[m\u001b[K]\n",
            " #\u001b[01;35m\u001b[Kwarning\u001b[m\u001b[K \"Using deprecated NumPy API, disable it with \" \\\n",
            "  \u001b[01;35m\u001b[K^~~~~~~\u001b[m\u001b[K\n",
            "x86_64-linux-gnu-gcc -pthread -shared -Wl,-O1 -Wl,-Bsymbolic-functions -Wl,-Bsymbolic-functions -Wl,-z,relro -Wl,-Bsymbolic-functions -Wl,-z,relro -g -fstack-protector-strong -Wformat -Werror=format-security -Wdate-time -D_FORTIFY_SOURCE=2 build/temp.linux-x86_64-3.6/./utils/box_overlaps.o -o /content/Voxelnet/utils/box_overlaps.cpython-36m-x86_64-linux-gnu.so\n"
          ],
          "name": "stdout"
        }
      ]
    },
    {
      "cell_type": "code",
      "metadata": {
        "id": "UdlWr0w0SzE1",
        "colab_type": "code",
        "colab": {
          "base_uri": "https://localhost:8080/",
          "height": 34
        },
        "outputId": "fafd1e11-14af-4dbb-c397-ca001c900d3c"
      },
      "source": [
        "%cd /content/Voxelnet/crop_data"
      ],
      "execution_count": null,
      "outputs": [
        {
          "output_type": "stream",
          "text": [
            "/content/Voxelnet/crop_data\n"
          ],
          "name": "stdout"
        }
      ]
    },
    {
      "cell_type": "markdown",
      "metadata": {
        "id": "4QIrv8CioNDX",
        "colab_type": "text"
      },
      "source": [
        "##Velodyne data"
      ]
    },
    {
      "cell_type": "code",
      "metadata": {
        "id": "N-9ed0KQTiFT",
        "colab_type": "code",
        "colab": {}
      },
      "source": [
        "#register to the KITTI dataset, link will be mailed\n",
        "!wget  (your link)"
      ],
      "execution_count": null,
      "outputs": []
    },
    {
      "cell_type": "code",
      "metadata": {
        "id": "67Qrz5OHYYub",
        "colab_type": "code",
        "colab": {}
      },
      "source": [
        "!unzip /content/Voxelnet/crop_data/data_object_velodyne.zip 'training/*' -d /content/Voxelnet/crop_data"
      ],
      "execution_count": null,
      "outputs": []
    },
    {
      "cell_type": "markdown",
      "metadata": {
        "id": "HncdFJdtoRQX",
        "colab_type": "text"
      },
      "source": [
        "##Image"
      ]
    },
    {
      "cell_type": "code",
      "metadata": {
        "id": "xEucungSel2w",
        "colab_type": "code",
        "colab": {}
      },
      "source": [
        "!wget (your link)"
      ],
      "execution_count": null,
      "outputs": []
    },
    {
      "cell_type": "code",
      "metadata": {
        "id": "AUVsnp6Vo4TZ",
        "colab_type": "code",
        "colab": {}
      },
      "source": [
        "!unzip /content/Voxelnet/crop_data/data_object_image_2.zip 'training/*' -d /content/Voxelnet/crop_data"
      ],
      "execution_count": null,
      "outputs": []
    },
    {
      "cell_type": "markdown",
      "metadata": {
        "id": "1C9m-3zArgXx",
        "colab_type": "text"
      },
      "source": [
        "##label-2"
      ]
    },
    {
      "cell_type": "code",
      "metadata": {
        "id": "p80cHVTmqrRS",
        "colab_type": "code",
        "colab": {}
      },
      "source": [
        "!wget  (your link)"
      ],
      "execution_count": null,
      "outputs": []
    },
    {
      "cell_type": "code",
      "metadata": {
        "id": "6Q5ZhxC8ruXQ",
        "colab_type": "code",
        "colab": {}
      },
      "source": [
        "!unzip /content/Voxelnet/crop_data/data_object_label_2.zip"
      ],
      "execution_count": null,
      "outputs": []
    },
    {
      "cell_type": "markdown",
      "metadata": {
        "id": "MDyK4pKsPEJX",
        "colab_type": "text"
      },
      "source": [
        "##Calib file"
      ]
    },
    {
      "cell_type": "code",
      "metadata": {
        "id": "HClYuioUbMqu",
        "colab_type": "code",
        "colab": {}
      },
      "source": [
        "!wget  https://s3.eu-central-1.amazonaws.com/avg-kitti/data_object_calib.zip"
      ],
      "execution_count": null,
      "outputs": []
    },
    {
      "cell_type": "code",
      "metadata": {
        "id": "NvTgWJbrbPIo",
        "colab_type": "code",
        "colab": {}
      },
      "source": [
        "!unzip /content/Voxelnet/crop_data/data_object_calib.zip 'training/*' -d /content/Voxelnet/crop_data"
      ],
      "execution_count": null,
      "outputs": []
    },
    {
      "cell_type": "markdown",
      "metadata": {
        "id": "VOHiuIDBPI9H",
        "colab_type": "text"
      },
      "source": [
        "cropping point cloud data for training and validation. Point clouds outside the image coordinates are removed. cropped point cloud will overwrite the existing raw point cloud\n",
        "\n",
        "### To edit the path directories in the crop.py (optional)"
      ]
    },
    {
      "cell_type": "code",
      "metadata": {
        "id": "VoGUs0mpr0H4",
        "colab_type": "code",
        "colab": {}
      },
      "source": [
        "#command to view the .py file \n",
        "%pycat /content/Voxelnet/crop_data/crop.py"
      ],
      "execution_count": null,
      "outputs": []
    },
    {
      "cell_type": "code",
      "metadata": {
        "id": "_fEFg1cecCSv",
        "colab_type": "code",
        "colab": {
          "base_uri": "https://localhost:8080/",
          "height": 34
        },
        "outputId": "6b501d56-c760-4ee6-92ba-504487167776"
      },
      "source": [
        "#Copy the code edit the file (optional)\n",
        "%%writefile /content/Voxelnet/crop_data/crop.py\n",
        "\n",
        "import numpy as np\n",
        "from scipy.misc import imread\n",
        "\n",
        "CAM = 2\n",
        "\n",
        "def load_velodyne_points(filename):\n",
        "    points = np.fromfile(filename, dtype=np.float32).reshape(-1, 4)\n",
        "    #points = points[:, :3]  # exclude luminance\n",
        "    return points\n",
        "\n",
        "def load_calib(calib_dir):\n",
        "    # P2 * R0_rect * Tr_velo_to_cam * y\n",
        "    lines = open(calib_dir).readlines()\n",
        "    lines = [ line.split()[1:] for line in lines ][:-1]\n",
        "    #\n",
        "    P = np.array(lines[CAM]).reshape(3,4)\n",
        "    #\n",
        "    Tr_velo_to_cam = np.array(lines[5]).reshape(3,4)\n",
        "    Tr_velo_to_cam = np.concatenate(  [ Tr_velo_to_cam, np.array([0,0,0,1]).reshape(1,4)  ]  , 0     )\n",
        "    #\n",
        "    R_cam_to_rect = np.eye(4)\n",
        "    R_cam_to_rect[:3,:3] = np.array(lines[4][:9]).reshape(3,3)\n",
        "    #\n",
        "    P = P.astype('float32')\n",
        "    Tr_velo_to_cam = Tr_velo_to_cam.astype('float32')\n",
        "    R_cam_to_rect = R_cam_to_rect.astype('float32')\n",
        "    return P, Tr_velo_to_cam, R_cam_to_rect\n",
        "\n",
        "def prepare_velo_points(pts3d_raw):\n",
        "    '''Replaces the reflectance value by 1, and tranposes the array, so\n",
        "        points can be directly multiplied by the camera projection matrix'''\n",
        "    pts3d = pts3d_raw\n",
        "    # Reflectance > 0\n",
        "    indices = pts3d[:, 3] > 0\n",
        "    pts3d = pts3d[indices ,:]\n",
        "    pts3d[:,3] = 1\n",
        "    return pts3d.transpose(), indices\n",
        "\n",
        "def project_velo_points_in_img(pts3d, T_cam_velo, Rrect, Prect):\n",
        "    '''Project 3D points into 2D image. Expects pts3d as a 4xN\n",
        "        numpy array. Returns the 2D projection of the points that\n",
        "        are in front of the camera only an the corresponding 3D points.'''\n",
        "    # 3D points in camera reference frame.\n",
        "    pts3d_cam = Rrect.dot(T_cam_velo.dot(pts3d))\n",
        "    # Before projecting, keep only points with z>0\n",
        "    # (points that are in fronto of the camera).\n",
        "    idx = (pts3d_cam[2,:]>=0)\n",
        "    pts2d_cam = Prect.dot(pts3d_cam[:,idx])\n",
        "    return pts3d[:, idx], pts2d_cam/pts2d_cam[2,:], idx\n",
        "\n",
        "\n",
        "def align_img_and_pc(img_dir, pc_dir, calib_dir):\n",
        "    \n",
        "    img = imread(img_dir)\n",
        "    pts = load_velodyne_points( pc_dir )\n",
        "    P, Tr_velo_to_cam, R_cam_to_rect = load_calib(calib_dir)\n",
        "\n",
        "    pts3d, indices = prepare_velo_points(pts)\n",
        "    pts3d_ori = pts3d.copy()\n",
        "    reflectances = pts[indices, 3]\n",
        "    pts3d, pts2d_normed, idx = project_velo_points_in_img( pts3d, Tr_velo_to_cam, R_cam_to_rect, P  )\n",
        "    #print reflectances.shape, idx.shape\n",
        "    reflectances = reflectances[idx]\n",
        "    #print reflectances.shape, pts3d.shape, pts2d_normed.shape\n",
        "    assert reflectances.shape[0] == pts3d.shape[1] == pts2d_normed.shape[1]\n",
        "\n",
        "    rows, cols = img.shape[:2]\n",
        "\n",
        "    points = []\n",
        "    for i in range(pts2d_normed.shape[1]):\n",
        "        c = int(np.round(pts2d_normed[0,i]))\n",
        "        r = int(np.round(pts2d_normed[1,i]))\n",
        "        if c < cols and r < rows and r > 0 and c > 0:\n",
        "            color = img[r, c, :]\n",
        "            point = [ pts3d[0,i], pts3d[1,i], pts3d[2,i], reflectances[i], color[0], color[1], color[2], pts2d_normed[0,i], pts2d_normed[1,i]  ]\n",
        "            points.append(point)\n",
        "\n",
        "    points = np.array(points)\n",
        "    return points\n",
        "\n",
        "# update the following directories\n",
        "IMG_ROOT = '/content/Voxelnet/crop_data/training/image_2/'\n",
        "PC_ROOT = '/content/Voxelnet/crop_data/training/velodyne/'\n",
        "CALIB_ROOT = '/content/Voxelnet/crop_data/training/calib/'\n",
        "\n",
        "\n",
        "\n",
        "for frame in range(0, 7481):\n",
        "    img_dir = IMG_ROOT + '%06d.png' % frame\n",
        "    pc_dir = PC_ROOT + '%06d.bin' % frame\n",
        "    calib_dir = CALIB_ROOT + '%06d.txt' % frame\n",
        "\n",
        "    points = align_img_and_pc(img_dir, pc_dir, calib_dir)\n",
        "    \n",
        "    output_name = str(PC_ROOT) + str(frame) + '.bin'\n",
        "    points[:,:4].astype('float32').tofile(output_name)"
      ],
      "execution_count": null,
      "outputs": [
        {
          "output_type": "stream",
          "text": [
            "Overwriting /content/Voxelnet/crop_data/crop.py\n"
          ],
          "name": "stdout"
        }
      ]
    },
    {
      "cell_type": "code",
      "metadata": {
        "id": "rNUBbxsUcpTd",
        "colab_type": "code",
        "colab": {
          "base_uri": "https://localhost:8080/",
          "height": 255
        },
        "outputId": "f2527c3f-e86c-453a-d0f7-10fc8c4a54a9"
      },
      "source": [
        "!pip install scipy==1.1.0"
      ],
      "execution_count": null,
      "outputs": [
        {
          "output_type": "stream",
          "text": [
            "Collecting scipy==1.1.0\n",
            "\u001b[?25l  Downloading https://files.pythonhosted.org/packages/a8/0b/f163da98d3a01b3e0ef1cab8dd2123c34aee2bafbb1c5bffa354cc8a1730/scipy-1.1.0-cp36-cp36m-manylinux1_x86_64.whl (31.2MB)\n",
            "\u001b[K     |████████████████████████████████| 31.2MB 130kB/s \n",
            "\u001b[?25hRequirement already satisfied: numpy>=1.8.2 in /usr/local/lib/python3.6/dist-packages (from scipy==1.1.0) (1.18.5)\n",
            "\u001b[31mERROR: umap-learn 0.4.6 has requirement scipy>=1.3.1, but you'll have scipy 1.1.0 which is incompatible.\u001b[0m\n",
            "\u001b[31mERROR: tensorflow 2.3.0 has requirement scipy==1.4.1, but you'll have scipy 1.1.0 which is incompatible.\u001b[0m\n",
            "\u001b[31mERROR: plotnine 0.6.0 has requirement scipy>=1.2.0, but you'll have scipy 1.1.0 which is incompatible.\u001b[0m\n",
            "\u001b[31mERROR: albumentations 0.1.12 has requirement imgaug<0.2.7,>=0.2.5, but you'll have imgaug 0.2.9 which is incompatible.\u001b[0m\n",
            "Installing collected packages: scipy\n",
            "  Found existing installation: scipy 1.4.1\n",
            "    Uninstalling scipy-1.4.1:\n",
            "      Successfully uninstalled scipy-1.4.1\n",
            "Successfully installed scipy-1.1.0\n"
          ],
          "name": "stdout"
        }
      ]
    },
    {
      "cell_type": "code",
      "metadata": {
        "id": "Pymvc1ZRsxmi",
        "colab_type": "code",
        "colab": {}
      },
      "source": [
        "#running the crop.py file\n",
        "!python crop.py"
      ],
      "execution_count": null,
      "outputs": []
    },
    {
      "cell_type": "markdown",
      "metadata": {
        "id": "BSMexuHyP2Js",
        "colab_type": "text"
      },
      "source": [
        "**Creating the validation data**\n",
        "\n",
        "**1. Create a folder named 'validation'**\n",
        "\n",
        "**2. copy the content from training to the validation folder**"
      ]
    },
    {
      "cell_type": "code",
      "metadata": {
        "id": "rgPfmYf-Q76Z",
        "colab_type": "code",
        "colab": {}
      },
      "source": [
        "!mkdir /content/Voxelnet/crop_data/validation/\n",
        "%cp -av /content/Voxelnet/crop_data/training /content/Voxelnet/crop_data/validation/"
      ],
      "execution_count": null,
      "outputs": []
    },
    {
      "cell_type": "markdown",
      "metadata": {
        "id": "ETzs50GvxL7a",
        "colab_type": "text"
      },
      "source": [
        "**Splitting the training and validation data**"
      ]
    },
    {
      "cell_type": "code",
      "metadata": {
        "id": "QuWr0ztvnjFt",
        "colab_type": "code",
        "colab": {}
      },
      "source": [
        "import os\n",
        "\n",
        "lines_train = [line.rstrip('\\n') for line in open('/content/Voxelnet/crop_data/training/train.txt')]\n",
        "lines_val = [line.rstrip('\\n') for line in open('/content/Voxelnet/crop_data/training/val.txt')]\n",
        "\n",
        "for i in lines_train:\n",
        "\n",
        "  os.remove('/content/Voxelnet/crop_data/training/image_2/'+i+'.png')\n",
        "  os.remove('/content/Voxelnet/crop_data/training/label_2/'+i+'.txt')\n",
        "  os.remove('/content/Voxelnet/crop_data/training/velodyne/'+i+'.bin')\n",
        "\n",
        "for i in lines_val:\n",
        "\n",
        "  os.remove('/content/Voxelnet/crop_data/validation/image_2/'+i+'.png')\n",
        "  os.remove('/content/Voxelnet/crop_data/validation/label_2/'+i+'.txt')\n",
        "  os.remove('/content/Voxelnet/crop_data/validation/velodyne/'+i+'.bin')"
      ],
      "execution_count": null,
      "outputs": []
    },
    {
      "cell_type": "markdown",
      "metadata": {
        "id": "yMaPa0vqQcCn",
        "colab_type": "text"
      },
      "source": [
        "**create a .zip folder of the processed and cropped data**"
      ]
    },
    {
      "cell_type": "code",
      "metadata": {
        "id": "K1UWl_ZX-lV1",
        "colab_type": "code",
        "colab": {}
      },
      "source": [
        "!zip -r data_lidar.zip /content/Voxelnet/crop_data/"
      ],
      "execution_count": null,
      "outputs": []
    },
    {
      "cell_type": "markdown",
      "metadata": {
        "id": "bWQkAKMqRE-Q",
        "colab_type": "text"
      },
      "source": [
        "**Move the .zip folder to the drive**\n"
      ]
    },
    {
      "cell_type": "code",
      "metadata": {
        "id": "HMdVPi42ctX2",
        "colab_type": "code",
        "colab": {}
      },
      "source": [
        "!mv \"/content/VoxelNet/data/data_lidar.zip\" \"/content/gdrive/My Drive/\""
      ],
      "execution_count": null,
      "outputs": []
    }
  ]
}